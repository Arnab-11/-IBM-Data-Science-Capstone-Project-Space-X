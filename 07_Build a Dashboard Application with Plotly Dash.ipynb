{
 "cells": [
  {
   "cell_type": "markdown",
   "id": "bff5089e-aa10-401d-9e00-a4ffd788ec7d",
   "metadata": {
    "tags": []
   },
   "source": [
    "### Hands-on Lab: Build an Interactive Dashboard with Ploty Dash"
   ]
  },
  {
   "cell_type": "code",
   "execution_count": 1,
   "id": "707201b9-0b18-45ee-a144-5bb18adddcf4",
   "metadata": {},
   "outputs": [
    {
     "name": "stderr",
     "output_type": "stream",
     "text": [
      "C:\\Users\\AC\\AppData\\Local\\Temp\\ipykernel_5080\\1399112611.py:4: UserWarning: \n",
      "The dash_html_components package is deprecated. Please replace\n",
      "`import dash_html_components as html` with `from dash import html`\n",
      "  import dash_html_components as html\n",
      "C:\\Users\\AC\\AppData\\Local\\Temp\\ipykernel_5080\\1399112611.py:5: UserWarning: \n",
      "The dash_core_components package is deprecated. Please replace\n",
      "`import dash_core_components as dcc` with `from dash import dcc`\n",
      "  import dash_core_components as dcc\n"
     ]
    }
   ],
   "source": [
    "# Import required libraries\n",
    "import pandas as pd\n",
    "import dash\n",
    "import dash_html_components as html\n",
    "import dash_core_components as dcc\n",
    "from dash.dependencies import Input, Output\n",
    "import plotly.express as px"
   ]
  },
  {
   "cell_type": "code",
   "execution_count": 2,
   "id": "c2405610-b9ee-4c0d-a271-368312a61935",
   "metadata": {},
   "outputs": [],
   "source": [
    "# Read the airline data into pandas dataframe\n",
    "spacex_df = pd.read_csv(\"https://cf-courses-data.s3.us.cloud-object-storage.appdomain.cloud/IBM-DS0321EN-SkillsNetwork/datasets/spacex_launch_dash.csv\")\n",
    "max_payload = spacex_df['Payload Mass (kg)'].max()\n",
    "min_payload = spacex_df['Payload Mass (kg)'].min()"
   ]
  },
  {
   "cell_type": "code",
   "execution_count": null,
   "id": "7150a1a2-96b7-4993-a45c-5cc804eaca45",
   "metadata": {},
   "outputs": [
    {
     "name": "stdout",
     "output_type": "stream",
     "text": [
      "Dash is running on http://127.0.0.1:8050/\n",
      "\n",
      " * Serving Flask app '__main__'\n",
      " * Debug mode: off\n"
     ]
    },
    {
     "name": "stderr",
     "output_type": "stream",
     "text": [
      "WARNING: This is a development server. Do not use it in a production deployment. Use a production WSGI server instead.\n",
      " * Running on http://127.0.0.1:8050\n",
      "Press CTRL+C to quit\n",
      "127.0.0.1 - - [19/Feb/2023 22:55:40] \"GET / HTTP/1.1\" 200 -\n",
      "127.0.0.1 - - [19/Feb/2023 22:55:41] \"GET /_dash-component-suites/dash/deps/polyfill@7.v2_7_0m1668603023.12.1.min.js HTTP/1.1\" 200 -\n",
      "127.0.0.1 - - [19/Feb/2023 22:55:41] \"GET /_dash-component-suites/dash/deps/react@16.v2_7_0m1668603023.14.0.min.js HTTP/1.1\" 200 -\n",
      "127.0.0.1 - - [19/Feb/2023 22:55:41] \"GET /_dash-component-suites/dash/deps/prop-types@15.v2_7_0m1668603023.8.1.min.js HTTP/1.1\" 200 -\n",
      "127.0.0.1 - - [19/Feb/2023 22:55:41] \"GET /_dash-component-suites/dash/deps/react-dom@16.v2_7_0m1668603023.14.0.min.js HTTP/1.1\" 200 -\n",
      "127.0.0.1 - - [19/Feb/2023 22:55:41] \"GET /_dash-component-suites/dash/dash-renderer/build/dash_renderer.v2_7_0m1668603021.min.js HTTP/1.1\" 200 -\n",
      "127.0.0.1 - - [19/Feb/2023 22:55:41] \"GET /_dash-component-suites/dash/dcc/dash_core_components.v2_7_0m1668603022.js HTTP/1.1\" 200 -\n",
      "127.0.0.1 - - [19/Feb/2023 22:55:42] \"GET /_dash-component-suites/dash/dcc/dash_core_components-shared.v2_7_0m1668603022.js HTTP/1.1\" 200 -\n",
      "127.0.0.1 - - [19/Feb/2023 22:55:42] \"GET /_dash-component-suites/dash/html/dash_html_components.v2_0_6m1668603024.min.js HTTP/1.1\" 200 -\n",
      "127.0.0.1 - - [19/Feb/2023 22:55:42] \"GET /_dash-component-suites/dash/dash_table/bundle.v5_2_0m1668603021.js HTTP/1.1\" 200 -\n",
      "127.0.0.1 - - [19/Feb/2023 22:55:43] \"GET /_dash-layout HTTP/1.1\" 200 -\n",
      "127.0.0.1 - - [19/Feb/2023 22:55:43] \"GET /_dash-dependencies HTTP/1.1\" 200 -\n",
      "127.0.0.1 - - [19/Feb/2023 22:55:44] \"GET /_dash-component-suites/dash/dcc/async-graph.js HTTP/1.1\" 200 -\n",
      "127.0.0.1 - - [19/Feb/2023 22:55:44] \"GET /_dash-component-suites/dash/dcc/async-dropdown.js HTTP/1.1\" 200 -\n",
      "127.0.0.1 - - [19/Feb/2023 22:55:44] \"GET /_dash-component-suites/dash/dcc/async-plotlyjs.js HTTP/1.1\" 200 -\n",
      "127.0.0.1 - - [19/Feb/2023 22:55:44] \"GET /_dash-component-suites/dash/dcc/async-slider.js HTTP/1.1\" 200 -\n",
      "127.0.0.1 - - [19/Feb/2023 22:56:08] \"POST /_dash-update-component HTTP/1.1\" 200 -\n",
      "127.0.0.1 - - [19/Feb/2023 22:56:08] \"POST /_dash-update-component HTTP/1.1\" 200 -\n"
     ]
    }
   ],
   "source": [
    "# Create a dash application\n",
    "app = dash.Dash(__name__)\n",
    "\n",
    "# Create an app layout\n",
    "app.layout = html.Div(children=[html.H1('SpaceX Launch Records Dashboard',\n",
    "                                        style={'textAlign': 'center', 'color': '#503D36',\n",
    "                                               'font-size': 40}),\n",
    "                                # TASK 1: Add a dropdown list to enable Launch Site selection\n",
    "                                # The default select value is for ALL sites\n",
    "                                dcc.Dropdown(id='site-dropdown',\n",
    "                                             options=[\n",
    "                                                     {'label': 'All Sites', 'value': 'ALL'},\n",
    "                                                     {'label': 'CCAFS LC-40', 'value': 'CCAFS LC-40'},\n",
    "                                                     {'label': 'VAFB SLC-4E', 'value': 'VAFB SLC-4E'},\n",
    "                                                     {'label': 'KSC LC-39A', 'value': 'KSC LC-39A'},\n",
    "                                                     {'label': 'CCAFS SLC-40', 'value': 'CCAFS SLC-40'}\n",
    "                                                     ],\n",
    "                                             value='ALL',\n",
    "                                             placeholder='Select a Launch Site here',\n",
    "                                             searchable=True\n",
    "                                             ),\n",
    "                                html.Br(),\n",
    "\n",
    "                                # TASK 2: Add a pie chart to show the total successful launches count for all sites\n",
    "                                # If a specific launch site was selected, show the Success vs. Failed counts for the site\n",
    "                                html.Div(dcc.Graph(id='success-pie-chart')),\n",
    "                                html.Br(),\n",
    "\n",
    "                                html.P(\"Payload range (Kg):\"),\n",
    "                                # TASK 3: Add a slider to select payload range\n",
    "                                #dcc.RangeSlider(id='payload-slider',...)\n",
    "                                dcc.RangeSlider(id='payload-slider',\n",
    "                                                min=0,\n",
    "                                                max=10000,\n",
    "                                                step=1000,\n",
    "                                                marks = {    0: '0 kg',\n",
    "                                                          1000: '1000 kg',\n",
    "                                                          2000: '2000 kg',\n",
    "                                                          3000: '3000 kg',\n",
    "                                                          4000: '4000 kg',\n",
    "                                                          5000: '5000 kg',\n",
    "                                                          6000: '6000 kg',\n",
    "                                                          7000: '7000 kg',\n",
    "                                                          8000: '8000 kg',\n",
    "                                                          9000: '9000 kg',\n",
    "                                                          10000: '10000 kg'\n",
    "                                                        },\n",
    "                                                value=[min_payload, max_payload]\n",
    "                                                ),\n",
    "\n",
    "                                # TASK 4: Add a scatter chart to show the correlation between payload and launch success\n",
    "                                html.Div(dcc.Graph(id='success-payload-scatter-chart')),\n",
    "                                ])\n",
    "\n",
    "# TASK 2:\n",
    "# Add a callback function for `site-dropdown` as input, `success-pie-chart` as output\n",
    "@app.callback(Output(component_id='success-pie-chart', component_property='figure'),\n",
    "              Input(component_id='site-dropdown', component_property='value'))\n",
    "def get_pie_chart(entered_site):\n",
    "    filtered_df = spacex_df\n",
    "    if entered_site == 'ALL':\n",
    "        fig = px.pie(filtered_df, values='class', \n",
    "        names='Launch Site', \n",
    "        title='Success Count for all launch sites')\n",
    "        return fig\n",
    "    else:\n",
    "        # return the outcomes piechart for a selected site\n",
    "        filtered_df=spacex_df[spacex_df['Launch Site']== entered_site]\n",
    "        filtered_df=filtered_df.groupby(['Launch Site','class']).size().reset_index(name='class count')\n",
    "        fig=px.pie(filtered_df,values='class count',names='class',title=f\"Total Success Launches for site {entered_site}\")\n",
    "        return fig\n",
    "\n",
    "\n",
    "# TASK 4:\n",
    "# Add a callback function for `site-dropdown` and `payload-slider` as inputs, `success-payload-scatter-chart` as output\n",
    "@app.callback(Output(component_id='success-payload-scatter-chart',component_property='figure'),\n",
    "                [Input(component_id='site-dropdown',component_property='value'),\n",
    "                Input(component_id='payload-slider',component_property='value')])\n",
    "def scatter(entered_site,payload):\n",
    "    filtered_df = spacex_df[spacex_df['Payload Mass (kg)'].between(payload[0],payload[1])]\n",
    "    # thought reusing filtered_df may cause issues, but tried it out of curiosity and it seems to be working fine\n",
    "    \n",
    "    if entered_site=='ALL':\n",
    "        fig=px.scatter(filtered_df,x='Payload Mass (kg)',y='class',color='Booster Version Category',title='Success count on Payload mass for all sites')\n",
    "        return fig\n",
    "    else:\n",
    "        fig=px.scatter(filtered_df[filtered_df['Launch Site']==entered_site],x='Payload Mass (kg)',y='class',color='Booster Version Category',title=f\"Success count on Payload mass for site {entered_site}\")\n",
    "        return fig\n",
    "\n",
    "# Run the app\n",
    "if __name__ == '__main__':\n",
    "    app.run_server()"
   ]
  },
  {
   "cell_type": "markdown",
   "id": "02b2c029-b534-4418-a67a-0fe83a931177",
   "metadata": {},
   "source": [
    "### Finding Insights Visually\n",
    "Now with the dashboard completed, you should be able to use it to analyze SpaceX launch data, and answer the following questions:\n",
    "1. Which site has the largest successful launches? - KSC LC-39A\n",
    "2. Which site has the highest launch success rate? - KSC LC-39A\n",
    "3. Which payload range(s) has the highest launch success rate? - 1952 Kg to 5300 Kg\n",
    "4. Which payload range(s) has the lowest launch success rate? - 5384 Kg to 6761 Kg\n",
    "5. Which F9 Booster version (v1.0, v1.1, FT, B4, B5, etc.) has the highest launch success rate? - B5"
   ]
  },
  {
   "cell_type": "code",
   "execution_count": null,
   "id": "1de71ab2-aa4c-46c9-9522-493f4099854c",
   "metadata": {},
   "outputs": [],
   "source": []
  }
 ],
 "metadata": {
  "kernelspec": {
   "display_name": "Python 3 (ipykernel)",
   "language": "python",
   "name": "python3"
  },
  "language_info": {
   "codemirror_mode": {
    "name": "ipython",
    "version": 3
   },
   "file_extension": ".py",
   "mimetype": "text/x-python",
   "name": "python",
   "nbconvert_exporter": "python",
   "pygments_lexer": "ipython3",
   "version": "3.10.4"
  }
 },
 "nbformat": 4,
 "nbformat_minor": 5
}
